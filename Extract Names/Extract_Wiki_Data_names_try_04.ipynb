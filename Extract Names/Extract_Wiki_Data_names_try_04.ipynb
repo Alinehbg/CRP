{
  "nbformat": 4,
  "nbformat_minor": 0,
  "metadata": {
    "colab": {
      "provenance": [],
      "include_colab_link": true
    },
    "kernelspec": {
      "name": "python3",
      "display_name": "Python 3"
    },
    "language_info": {
      "name": "python"
    }
  },
  "cells": [
    {
      "cell_type": "markdown",
      "metadata": {
        "id": "view-in-github",
        "colab_type": "text"
      },
      "source": [
        "<a href=\"https://colab.research.google.com/github/Alinehbg/CRP/blob/Anmol_Trial/Extract%20Names/Extract_Wiki_Data_names_try_04.ipynb\" target=\"_parent\"><img src=\"https://colab.research.google.com/assets/colab-badge.svg\" alt=\"Open In Colab\"/></a>"
      ]
    },
    {
      "cell_type": "code",
      "execution_count": 1,
      "metadata": {
        "id": "PGVdC2zoVCeE"
      },
      "outputs": [],
      "source": [
        "#pip install requests\n",
        "import requests\n",
        "import pandas as pd\n",
        "import numpy as np"
      ]
    },
    {
      "cell_type": "code",
      "source": [
        "from google.colab import drive\n",
        "drive.mount('/content/drive')"
      ],
      "metadata": {
        "id": "YldfGqmcwkid",
        "outputId": "dad686d0-8cb4-4f1c-b89e-be45d5bf946d",
        "colab": {
          "base_uri": "https://localhost:8080/"
        }
      },
      "execution_count": 2,
      "outputs": [
        {
          "output_type": "stream",
          "name": "stdout",
          "text": [
            "Drive already mounted at /content/drive; to attempt to forcibly remount, call drive.mount(\"/content/drive\", force_remount=True).\n"
          ]
        }
      ]
    },
    {
      "cell_type": "code",
      "source": [
        "names = pd.read_csv('/content/drive/MyDrive/CRP/Datasets/Names_List.csv')"
      ],
      "metadata": {
        "id": "t4sYuWd5wqNo"
      },
      "execution_count": 3,
      "outputs": []
    },
    {
      "cell_type": "code",
      "source": [
        "names = list(names['Name'])\n",
        "first_names = [ x.split(' ')[0]  for x in names ]\n",
        "last_names  = [ x.split(' ')[-1] for x in names ]"
      ],
      "metadata": {
        "id": "6OBqhbVZwyTb"
      },
      "execution_count": 4,
      "outputs": []
    },
    {
      "cell_type": "code",
      "source": [
        "first_names = list(set(first_names))\n",
        "last_names  = list(set(last_names))"
      ],
      "metadata": {
        "id": "ktN3Mgw0zksK"
      },
      "execution_count": 5,
      "outputs": []
    },
    {
      "cell_type": "markdown",
      "source": [
        "#### Query Functions "
      ],
      "metadata": {
        "id": "67upHfNtN9mQ"
      }
    },
    {
      "cell_type": "code",
      "source": [
        "def get_itemlabel(query): \n",
        "  name_list = []\n",
        "  for x in query[\"results\"][\"bindings\"]: \n",
        "    name_list.append(x[\"itemLabel\"][\"value\"])\n",
        "  return name_list\n",
        "\n",
        "def find_fname_id(name): \n",
        "  find_fn_id_query = f'''SELECT DISTINCT ?item ?itemLabel WHERE \n",
        "  {{\n",
        "    ?item rdfs:label \"{name}\"@en;\n",
        "          wdt:P31 wd:Q12308941.\n",
        "    SERVICE wikibase:label {{ bd:serviceParam wikibase:language \"en\". }}\n",
        "  }}\n",
        "  '''\n",
        "  data = {'query': find_fn_id_query}\n",
        "  response = requests.post('https://query.wikidata.org/sparql?format=json', data=data)\n",
        "  res = response.json()\n",
        "  try:\n",
        "      id = res['results']['bindings'][0]['item']['value'].split('/')[-1]\n",
        "  except IndexError:\n",
        "      #print(f\"Cannot find first name id for {name}\")  \n",
        "      id = []  \n",
        "  return id\n",
        "\n",
        "def find_lname_id(name): \n",
        "  find_fn_id_query = f'''SELECT DISTINCT ?item ?itemLabel WHERE \n",
        "  {{\n",
        "    ?item rdfs:label \"{name}\"@en;\n",
        "          wdt:P31 wd:Q101352.\n",
        "    SERVICE wikibase:label {{ bd:serviceParam wikibase:language \"en\". }}\n",
        "  }}\n",
        "  '''\n",
        "  data = {'query': find_fn_id_query}\n",
        "  response = requests.post('https://query.wikidata.org/sparql?format=json', data=data)\n",
        "  res = response.json()\n",
        "  try:\n",
        "      id = res['results']['bindings'][0]['item']['value'].split('/')[-1]\n",
        "  except IndexError:\n",
        "      #print(f\"Cannot find last name id for {name}\")  \n",
        "      id = []  \n",
        "  return id\n",
        "\n",
        "def find_similar_from_id(id): \n",
        "  #find similar names from the ID just found for the target name\n",
        "  id = id\n",
        "  find_similar_query = f\"\"\"\n",
        "  SELECT DISTINCT ?item ?itemLabel WHERE \n",
        "  {{\n",
        "    SERVICE wikibase:label {{ bd:serviceParam wikibase:language \"en\". }}\n",
        "    {{\n",
        "      SELECT DISTINCT ?item WHERE {{\n",
        "        ?item p:P460 ?statement0.\n",
        "        ?statement0 (ps:P460/(wdt:P279*)) wd:{id}.\n",
        "      }}\n",
        "    }}\n",
        "  }}\n",
        "  \"\"\"\n",
        "  data = {'query': find_similar_query}\n",
        "  response = requests.post('https://query.wikidata.org/sparql?format=json', data=data)\n",
        "  res = response.json()\n",
        "  similar_name_list = get_itemlabel(res)\n",
        "  return similar_name_list\n",
        "\n",
        "# def similar_full_names(name): \n",
        "#   f_name, l_name = name.split(' ')\n",
        "\n",
        "#   f_name_id = find_fname_id(f_name)\n",
        "#   l_name_id = find_lname_id(l_name)\n",
        "\n",
        "#   if f_name_id == []: \n",
        "#     fname_similar = []\n",
        "#     lname_similar = find_similar_from_id(l_name_id)\n",
        "#     fname_list = []\n",
        "#     lname_list = [f_name + ' ' + sim_lname for sim_lname in lname_similar]\n",
        "#   elif l_name_id == []: \n",
        "#     lname_similar = []\n",
        "#     print(f_name_id)\n",
        "#     fname_similar = find_similar_from_id(f_name_id)\n",
        "#     lname_list = []\n",
        "#     fname_list = [sim_fname + ' ' + l_name for sim_fname in fname_similar]\n",
        "#   else: \n",
        "#     fname_similar = find_similar_from_id(f_name_id)\n",
        "#     lname_similar = find_similar_from_id(l_name_id)\n",
        "\n",
        "#     fname_list = [sim_fname + ' ' + l_name for sim_fname in fname_similar]\n",
        "#     lname_list = [f_name + ' ' + sim_lname for sim_lname in lname_similar]\n",
        "  \n",
        "#   similar_full_names = fname_list + lname_list\n",
        "#   pair = {name: similar_full_names}\n",
        "#   return pair\n",
        "\n",
        "# def Merge(dict1, dict2):\n",
        "#   return(dict2.update(dict1))"
      ],
      "metadata": {
        "id": "QROZ9l8GKICt"
      },
      "execution_count": 7,
      "outputs": []
    },
    {
      "cell_type": "code",
      "source": [
        "name = 'Joshua Baker'\n",
        "print(find_fname_id('Joshua'))\n",
        "print(find_similar_from_id('Q3284319'))\n",
        "print(similar_full_names(name))\n",
        "name1 = 'Ernst Albrecht'\n",
        "print(similar_full_names(name1))"
      ],
      "metadata": {
        "colab": {
          "base_uri": "https://localhost:8080/"
        },
        "id": "73hmRSbuOO8B",
        "outputId": "36945026-ffd2-49e2-b431-a5f87fe98c73"
      },
      "execution_count": null,
      "outputs": [
        {
          "output_type": "stream",
          "name": "stdout",
          "text": [
            "Q3284319\n",
            "['Joshuah', 'Josh', 'Jozue', 'Josua', 'Joosua', 'Yosua', 'Josuah', 'Giosuè', 'Yehoshua']\n",
            "{'Joshua Baker': ['Joshuah Baker', 'Josh Baker', 'Jozue Baker', 'Josua Baker', 'Joosua Baker', 'Yosua Baker', 'Josuah Baker', 'Giosuè Baker', 'Yehoshua Baker', 'Joshua Bäcker', 'Joshua Bakker', 'Joshua Becker', 'Joshua Boulanger', 'Joshua Boulenger']}\n",
            "{'Ernst Albrecht': ['Ernestan Albrecht', 'Ernest Albrecht', 'Ernesto Albrecht', 'Arnošt Albrecht', 'Ernő Albrecht', 'Q111549586 Albrecht', 'Ernst Abel', 'Ernst Albert', 'Ernst Alberto', 'Ernst Avraham', 'Ernst Alberts', 'Ernst Albertus', 'Ernst Albracht', 'Ernst Adelbrecht', 'Ernst Albercht', 'Ernst Allbrecht']}\n"
          ]
        }
      ]
    },
    {
      "cell_type": "code",
      "source": [
        "def create_mini\n",
        "for i in range(len(first_names)):\n",
        "  fid = find_fname_id(first_names[i])\n",
        "  flist = find_similar_from_id(fid)\n",
        "\n",
        "  for j in range(len(last_names)):\n",
        "    lid = find_fname_id(last_names[i])\n",
        "    llist = find_similar_from_id(fid)\n",
        "\n",
        "\n",
        "\n",
        "    "
      ],
      "metadata": {
        "id": "J9lWOiySzVt6"
      },
      "execution_count": null,
      "outputs": []
    }
  ]
}